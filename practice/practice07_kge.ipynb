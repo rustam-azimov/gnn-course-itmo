{
  "nbformat": 4,
  "nbformat_minor": 0,
  "metadata": {
    "colab": {
      "provenance": []
    },
    "kernelspec": {
      "name": "python3",
      "display_name": "Python 3"
    },
    "language_info": {
      "name": "python"
    }
  },
  "cells": [
    {
      "cell_type": "markdown",
      "source": [
        "# Knowledge Graph Embedding\n",
        "На основе материалов из [PyG]('https://pytorch-geometric.readthedocs.io/en/latest/generated/torch_geometric.nn.kge.TransE.html?highlight=transe')."
      ],
      "metadata": {
        "id": "yauTOizrSDhk"
      }
    },
    {
      "cell_type": "code",
      "execution_count": null,
      "metadata": {
        "colab": {
          "base_uri": "https://localhost:8080/"
        },
        "id": "MgS-pU-jXwc_",
        "outputId": "0abfbdb6-3e34-4ce0-b0cb-e76fce62a1c9"
      },
      "outputs": [
        {
          "output_type": "stream",
          "name": "stdout",
          "text": [
            "2.5.0+cu121\n",
            "Looking in links: https://data.pyg.org/whl/nightly/torch-2.5.0+cu121.html\n",
            "Requirement already satisfied: pyg-lib in /usr/local/lib/python3.10/dist-packages (0.4.0.dev20241111+pt25cu121)\n",
            "Collecting git+https://github.com/pyg-team/pytorch_geometric.git\n",
            "  Cloning https://github.com/pyg-team/pytorch_geometric.git to /tmp/pip-req-build-ubor8wni\n",
            "  Running command git clone --filter=blob:none --quiet https://github.com/pyg-team/pytorch_geometric.git /tmp/pip-req-build-ubor8wni\n",
            "  Resolved https://github.com/pyg-team/pytorch_geometric.git to commit f5c829344517c823c24abb08ce2fc7cf00ff29f7\n",
            "  Installing build dependencies ... \u001b[?25l\u001b[?25hdone\n",
            "  Getting requirements to build wheel ... \u001b[?25l\u001b[?25hdone\n",
            "  Preparing metadata (pyproject.toml) ... \u001b[?25l\u001b[?25hdone\n",
            "Requirement already satisfied: aiohttp in /usr/local/lib/python3.10/dist-packages (from torch-geometric==2.7.0) (3.10.10)\n",
            "Requirement already satisfied: fsspec in /usr/local/lib/python3.10/dist-packages (from torch-geometric==2.7.0) (2024.10.0)\n",
            "Requirement already satisfied: jinja2 in /usr/local/lib/python3.10/dist-packages (from torch-geometric==2.7.0) (3.1.4)\n",
            "Requirement already satisfied: numpy in /usr/local/lib/python3.10/dist-packages (from torch-geometric==2.7.0) (1.26.4)\n",
            "Requirement already satisfied: psutil>=5.8.0 in /usr/local/lib/python3.10/dist-packages (from torch-geometric==2.7.0) (5.9.5)\n",
            "Requirement already satisfied: pyparsing in /usr/local/lib/python3.10/dist-packages (from torch-geometric==2.7.0) (3.2.0)\n",
            "Requirement already satisfied: requests in /usr/local/lib/python3.10/dist-packages (from torch-geometric==2.7.0) (2.32.3)\n",
            "Requirement already satisfied: tqdm in /usr/local/lib/python3.10/dist-packages (from torch-geometric==2.7.0) (4.66.6)\n",
            "Requirement already satisfied: aiohappyeyeballs>=2.3.0 in /usr/local/lib/python3.10/dist-packages (from aiohttp->torch-geometric==2.7.0) (2.4.3)\n",
            "Requirement already satisfied: aiosignal>=1.1.2 in /usr/local/lib/python3.10/dist-packages (from aiohttp->torch-geometric==2.7.0) (1.3.1)\n",
            "Requirement already satisfied: attrs>=17.3.0 in /usr/local/lib/python3.10/dist-packages (from aiohttp->torch-geometric==2.7.0) (24.2.0)\n",
            "Requirement already satisfied: frozenlist>=1.1.1 in /usr/local/lib/python3.10/dist-packages (from aiohttp->torch-geometric==2.7.0) (1.5.0)\n",
            "Requirement already satisfied: multidict<7.0,>=4.5 in /usr/local/lib/python3.10/dist-packages (from aiohttp->torch-geometric==2.7.0) (6.1.0)\n",
            "Requirement already satisfied: yarl<2.0,>=1.12.0 in /usr/local/lib/python3.10/dist-packages (from aiohttp->torch-geometric==2.7.0) (1.17.1)\n",
            "Requirement already satisfied: async-timeout<5.0,>=4.0 in /usr/local/lib/python3.10/dist-packages (from aiohttp->torch-geometric==2.7.0) (4.0.3)\n",
            "Requirement already satisfied: MarkupSafe>=2.0 in /usr/local/lib/python3.10/dist-packages (from jinja2->torch-geometric==2.7.0) (3.0.2)\n",
            "Requirement already satisfied: charset-normalizer<4,>=2 in /usr/local/lib/python3.10/dist-packages (from requests->torch-geometric==2.7.0) (3.4.0)\n",
            "Requirement already satisfied: idna<4,>=2.5 in /usr/local/lib/python3.10/dist-packages (from requests->torch-geometric==2.7.0) (3.10)\n",
            "Requirement already satisfied: urllib3<3,>=1.21.1 in /usr/local/lib/python3.10/dist-packages (from requests->torch-geometric==2.7.0) (2.2.3)\n",
            "Requirement already satisfied: certifi>=2017.4.17 in /usr/local/lib/python3.10/dist-packages (from requests->torch-geometric==2.7.0) (2024.8.30)\n",
            "Requirement already satisfied: typing-extensions>=4.1.0 in /usr/local/lib/python3.10/dist-packages (from multidict<7.0,>=4.5->aiohttp->torch-geometric==2.7.0) (4.12.2)\n",
            "Requirement already satisfied: propcache>=0.2.0 in /usr/local/lib/python3.10/dist-packages (from yarl<2.0,>=1.12.0->aiohttp->torch-geometric==2.7.0) (0.2.0)\n"
          ]
        }
      ],
      "source": [
        "import os\n",
        "import os.path as osp\n",
        "import torch\n",
        "import torch.optim as optim\n",
        "\n",
        "# Install required packages.\n",
        "os.environ['TORCH'] = torch.__version__\n",
        "print(torch.__version__)\n",
        "\n",
        "!pip install pyg-lib -f https://data.pyg.org/whl/nightly/torch-${TORCH}.html\n",
        "!pip install git+https://github.com/pyg-team/pytorch_geometric.git"
      ]
    },
    {
      "cell_type": "markdown",
      "source": [
        "Будем использовать популярный, полный KG - `FB15k_237`."
      ],
      "metadata": {
        "id": "GMfTX_uLS5Nd"
      }
    },
    {
      "cell_type": "code",
      "source": [
        "from torch_geometric.datasets import FB15k_237\n",
        "from torch_geometric.nn import ComplEx, DistMult, RotatE, TransE\n",
        "\n",
        "device = 'cuda' if torch.cuda.is_available() else 'cpu'\n",
        "path = \"/content/data/FB15k/\"\n",
        "\n",
        "train_data = FB15k_237(path, split='train')[0].to(device)\n",
        "val_data = FB15k_237(path, split='val')[0].to(device)\n",
        "test_data = FB15k_237(path, split='test')[0].to(device)"
      ],
      "metadata": {
        "id": "DVfoQUVpSs1A"
      },
      "execution_count": null,
      "outputs": []
    },
    {
      "cell_type": "markdown",
      "source": [
        "Выберем модель для обучения эмбеддингов. В будущем можно попробовать и другие модели (`DistMult`, `ComplEx`, `RotatE`)."
      ],
      "metadata": {
        "id": "ZKgQ3tnXTI0a"
      }
    },
    {
      "cell_type": "code",
      "source": [
        "model = TransE(\n",
        "    num_nodes=train_data.num_nodes,\n",
        "    num_relations=train_data.num_edge_types,\n",
        "    hidden_channels=50\n",
        ").to(device)"
      ],
      "metadata": {
        "id": "yYCG7II7Sts_"
      },
      "execution_count": null,
      "outputs": []
    },
    {
      "cell_type": "markdown",
      "source": [
        "Инициализируем loader."
      ],
      "metadata": {
        "id": "4y2mtYrMTb0T"
      }
    },
    {
      "cell_type": "code",
      "source": [
        "loader = model.loader(\n",
        "    head_index=train_data.edge_index[0],\n",
        "    rel_type=train_data.edge_type,\n",
        "    tail_index=train_data.edge_index[1],\n",
        "    batch_size=1000,\n",
        "    shuffle=True,\n",
        ")"
      ],
      "metadata": {
        "id": "f9uzeAFOStpn"
      },
      "execution_count": null,
      "outputs": []
    },
    {
      "cell_type": "markdown",
      "source": [
        "Выбираем рекомендованные параметры для оптимизатора. Их также можно подобрать, используя валидационную выборку."
      ],
      "metadata": {
        "id": "CaMmTcCgTiFW"
      }
    },
    {
      "cell_type": "code",
      "source": [
        "optimizer_map = {\n",
        "    'transe': optim.Adam(model.parameters(), lr=0.01),\n",
        "    'complex': optim.Adagrad(model.parameters(), lr=0.001, weight_decay=1e-6),\n",
        "    'distmult': optim.Adam(model.parameters(), lr=0.0001, weight_decay=1e-6),\n",
        "    'rotate': optim.Adam(model.parameters(), lr=1e-3),\n",
        "}\n",
        "optimizer = optimizer_map['transe']"
      ],
      "metadata": {
        "id": "W9sC4YG5SthR"
      },
      "execution_count": null,
      "outputs": []
    },
    {
      "cell_type": "markdown",
      "source": [
        "Как обычно, определеяем процессы обучения и тестирования."
      ],
      "metadata": {
        "id": "Jt7MM2RiTsgj"
      }
    },
    {
      "cell_type": "code",
      "source": [
        "def train():\n",
        "    model.train()\n",
        "    total_loss = total_examples = 0\n",
        "    for head_index, rel_type, tail_index in loader:\n",
        "        optimizer.zero_grad()\n",
        "        loss = model.loss(head_index, rel_type, tail_index)\n",
        "        loss.backward()\n",
        "        optimizer.step()\n",
        "        total_loss += float(loss) * head_index.numel()\n",
        "        total_examples += head_index.numel()\n",
        "    return total_loss / total_examples\n",
        "\n",
        "@torch.no_grad()\n",
        "def test(data):\n",
        "    model.eval()\n",
        "    return model.test(\n",
        "        head_index=data.edge_index[0],\n",
        "        rel_type=data.edge_type,\n",
        "        tail_index=data.edge_index[1],\n",
        "        batch_size=20000,\n",
        "        k=10,\n",
        "    )"
      ],
      "metadata": {
        "id": "Kk_8_IrWYqFA"
      },
      "execution_count": null,
      "outputs": []
    },
    {
      "cell_type": "markdown",
      "source": [
        "Обучаем на 200 эпохах и параллельно отслеживаем качество на валидационных данных."
      ],
      "metadata": {
        "id": "nyw_AS6BT1W8"
      }
    },
    {
      "cell_type": "code",
      "source": [
        "for epoch in range(1, 201):\n",
        "    loss = train()\n",
        "    print(f'Epoch: {epoch:03d}, Loss: {loss:.4f}')\n",
        "    if epoch % 50 == 0:\n",
        "        rank, mrr, hits = test(val_data)\n",
        "        print(f'Epoch: {epoch:03d}, Val Mean Rank: {rank:.2f}, '\n",
        "              f'Val MRR: {mrr:.4f}, Val Hits@10: {hits:.4f}')"
      ],
      "metadata": {
        "colab": {
          "base_uri": "https://localhost:8080/"
        },
        "id": "yH0IivuiYsiP",
        "outputId": "adc7bf6e-1a94-4f13-b8fb-6c22a7277eb1"
      },
      "execution_count": null,
      "outputs": [
        {
          "output_type": "stream",
          "name": "stdout",
          "text": [
            "Epoch: 001, Loss: 0.7586\n",
            "Epoch: 002, Loss: 0.5482\n",
            "Epoch: 003, Loss: 0.4294\n",
            "Epoch: 004, Loss: 0.3470\n",
            "Epoch: 005, Loss: 0.2975\n",
            "Epoch: 006, Loss: 0.2642\n",
            "Epoch: 007, Loss: 0.2436\n",
            "Epoch: 008, Loss: 0.2273\n",
            "Epoch: 009, Loss: 0.2149\n",
            "Epoch: 010, Loss: 0.2042\n",
            "Epoch: 011, Loss: 0.1971\n",
            "Epoch: 012, Loss: 0.1904\n",
            "Epoch: 013, Loss: 0.1842\n",
            "Epoch: 014, Loss: 0.1802\n",
            "Epoch: 015, Loss: 0.1759\n",
            "Epoch: 016, Loss: 0.1712\n",
            "Epoch: 017, Loss: 0.1685\n",
            "Epoch: 018, Loss: 0.1637\n",
            "Epoch: 019, Loss: 0.1610\n",
            "Epoch: 020, Loss: 0.1598\n",
            "Epoch: 021, Loss: 0.1560\n",
            "Epoch: 022, Loss: 0.1534\n",
            "Epoch: 023, Loss: 0.1513\n",
            "Epoch: 024, Loss: 0.1482\n",
            "Epoch: 025, Loss: 0.1459\n",
            "Epoch: 026, Loss: 0.1452\n",
            "Epoch: 027, Loss: 0.1432\n",
            "Epoch: 028, Loss: 0.1413\n",
            "Epoch: 029, Loss: 0.1397\n",
            "Epoch: 030, Loss: 0.1369\n",
            "Epoch: 031, Loss: 0.1364\n",
            "Epoch: 032, Loss: 0.1354\n",
            "Epoch: 033, Loss: 0.1334\n",
            "Epoch: 034, Loss: 0.1318\n",
            "Epoch: 035, Loss: 0.1309\n",
            "Epoch: 036, Loss: 0.1296\n",
            "Epoch: 037, Loss: 0.1289\n",
            "Epoch: 038, Loss: 0.1266\n",
            "Epoch: 039, Loss: 0.1260\n",
            "Epoch: 040, Loss: 0.1256\n",
            "Epoch: 041, Loss: 0.1226\n",
            "Epoch: 042, Loss: 0.1217\n",
            "Epoch: 043, Loss: 0.1208\n",
            "Epoch: 044, Loss: 0.1200\n",
            "Epoch: 045, Loss: 0.1199\n",
            "Epoch: 046, Loss: 0.1181\n",
            "Epoch: 047, Loss: 0.1176\n",
            "Epoch: 048, Loss: 0.1164\n",
            "Epoch: 049, Loss: 0.1159\n",
            "Epoch: 050, Loss: 0.1145\n"
          ]
        },
        {
          "output_type": "stream",
          "name": "stderr",
          "text": [
            "100%|██████████| 17535/17535 [06:16<00:00, 46.59it/s]\n"
          ]
        },
        {
          "output_type": "stream",
          "name": "stdout",
          "text": [
            "Epoch: 050, Val Mean Rank: 338.95, Val MRR: 0.2216, Val Hits@10: 0.3701\n",
            "Epoch: 051, Loss: 0.1146\n",
            "Epoch: 052, Loss: 0.1132\n",
            "Epoch: 053, Loss: 0.1137\n",
            "Epoch: 054, Loss: 0.1131\n",
            "Epoch: 055, Loss: 0.1118\n",
            "Epoch: 056, Loss: 0.1106\n",
            "Epoch: 057, Loss: 0.1106\n",
            "Epoch: 058, Loss: 0.1106\n",
            "Epoch: 059, Loss: 0.1086\n",
            "Epoch: 060, Loss: 0.1096\n",
            "Epoch: 061, Loss: 0.1079\n",
            "Epoch: 062, Loss: 0.1075\n",
            "Epoch: 063, Loss: 0.1064\n",
            "Epoch: 064, Loss: 0.1065\n",
            "Epoch: 065, Loss: 0.1062\n",
            "Epoch: 066, Loss: 0.1064\n",
            "Epoch: 067, Loss: 0.1069\n",
            "Epoch: 068, Loss: 0.1060\n",
            "Epoch: 069, Loss: 0.1050\n",
            "Epoch: 070, Loss: 0.1039\n",
            "Epoch: 071, Loss: 0.1035\n",
            "Epoch: 072, Loss: 0.1034\n",
            "Epoch: 073, Loss: 0.1030\n",
            "Epoch: 074, Loss: 0.1024\n",
            "Epoch: 075, Loss: 0.1020\n",
            "Epoch: 076, Loss: 0.1016\n",
            "Epoch: 077, Loss: 0.1018\n",
            "Epoch: 078, Loss: 0.1019\n",
            "Epoch: 079, Loss: 0.1016\n",
            "Epoch: 080, Loss: 0.1011\n",
            "Epoch: 081, Loss: 0.1005\n",
            "Epoch: 082, Loss: 0.1002\n",
            "Epoch: 083, Loss: 0.0997\n",
            "Epoch: 084, Loss: 0.0998\n",
            "Epoch: 085, Loss: 0.1004\n",
            "Epoch: 086, Loss: 0.0991\n",
            "Epoch: 087, Loss: 0.0989\n",
            "Epoch: 088, Loss: 0.0989\n",
            "Epoch: 089, Loss: 0.0983\n",
            "Epoch: 090, Loss: 0.0979\n",
            "Epoch: 091, Loss: 0.0977\n",
            "Epoch: 092, Loss: 0.0975\n",
            "Epoch: 093, Loss: 0.0962\n",
            "Epoch: 094, Loss: 0.0983\n",
            "Epoch: 095, Loss: 0.0971\n",
            "Epoch: 096, Loss: 0.0963\n",
            "Epoch: 097, Loss: 0.0967\n",
            "Epoch: 098, Loss: 0.0965\n",
            "Epoch: 099, Loss: 0.0967\n",
            "Epoch: 100, Loss: 0.0954\n"
          ]
        },
        {
          "output_type": "stream",
          "name": "stderr",
          "text": [
            "100%|██████████| 17535/17535 [06:54<00:00, 42.31it/s]\n"
          ]
        },
        {
          "output_type": "stream",
          "name": "stdout",
          "text": [
            "Epoch: 100, Val Mean Rank: 295.50, Val MRR: 0.2289, Val Hits@10: 0.3717\n",
            "Epoch: 101, Loss: 0.0951\n",
            "Epoch: 102, Loss: 0.0962\n",
            "Epoch: 103, Loss: 0.0954\n",
            "Epoch: 104, Loss: 0.0953\n",
            "Epoch: 105, Loss: 0.0944\n",
            "Epoch: 106, Loss: 0.0947\n",
            "Epoch: 107, Loss: 0.0944\n",
            "Epoch: 108, Loss: 0.0941\n",
            "Epoch: 109, Loss: 0.0945\n",
            "Epoch: 110, Loss: 0.0937\n",
            "Epoch: 111, Loss: 0.0934\n",
            "Epoch: 112, Loss: 0.0938\n",
            "Epoch: 113, Loss: 0.0935\n",
            "Epoch: 114, Loss: 0.0932\n",
            "Epoch: 115, Loss: 0.0933\n",
            "Epoch: 116, Loss: 0.0931\n",
            "Epoch: 117, Loss: 0.0930\n",
            "Epoch: 118, Loss: 0.0933\n",
            "Epoch: 119, Loss: 0.0940\n",
            "Epoch: 120, Loss: 0.0917\n",
            "Epoch: 121, Loss: 0.0929\n",
            "Epoch: 122, Loss: 0.0925\n",
            "Epoch: 123, Loss: 0.0929\n",
            "Epoch: 124, Loss: 0.0927\n",
            "Epoch: 125, Loss: 0.0927\n",
            "Epoch: 126, Loss: 0.0929\n",
            "Epoch: 127, Loss: 0.0922\n",
            "Epoch: 128, Loss: 0.0910\n",
            "Epoch: 129, Loss: 0.0919\n",
            "Epoch: 130, Loss: 0.0910\n",
            "Epoch: 131, Loss: 0.0914\n",
            "Epoch: 132, Loss: 0.0911\n",
            "Epoch: 133, Loss: 0.0918\n",
            "Epoch: 134, Loss: 0.0923\n",
            "Epoch: 135, Loss: 0.0910\n",
            "Epoch: 136, Loss: 0.0911\n",
            "Epoch: 137, Loss: 0.0907\n",
            "Epoch: 138, Loss: 0.0901\n",
            "Epoch: 139, Loss: 0.0905\n",
            "Epoch: 140, Loss: 0.0914\n",
            "Epoch: 141, Loss: 0.0905\n",
            "Epoch: 142, Loss: 0.0905\n",
            "Epoch: 143, Loss: 0.0907\n",
            "Epoch: 144, Loss: 0.0896\n",
            "Epoch: 145, Loss: 0.0904\n",
            "Epoch: 146, Loss: 0.0890\n",
            "Epoch: 147, Loss: 0.0899\n",
            "Epoch: 148, Loss: 0.0891\n",
            "Epoch: 149, Loss: 0.0901\n",
            "Epoch: 150, Loss: 0.0898\n"
          ]
        },
        {
          "output_type": "stream",
          "name": "stderr",
          "text": [
            "100%|██████████| 17535/17535 [07:08<00:00, 40.89it/s]\n"
          ]
        },
        {
          "output_type": "stream",
          "name": "stdout",
          "text": [
            "Epoch: 150, Val Mean Rank: 281.93, Val MRR: 0.2259, Val Hits@10: 0.3673\n",
            "Epoch: 151, Loss: 0.0892\n",
            "Epoch: 152, Loss: 0.0896\n",
            "Epoch: 153, Loss: 0.0894\n",
            "Epoch: 154, Loss: 0.0902\n",
            "Epoch: 155, Loss: 0.0895\n",
            "Epoch: 156, Loss: 0.0894\n",
            "Epoch: 157, Loss: 0.0906\n",
            "Epoch: 158, Loss: 0.0900\n",
            "Epoch: 159, Loss: 0.0896\n",
            "Epoch: 160, Loss: 0.0887\n",
            "Epoch: 161, Loss: 0.0897\n",
            "Epoch: 162, Loss: 0.0885\n",
            "Epoch: 163, Loss: 0.0896\n",
            "Epoch: 164, Loss: 0.0882\n",
            "Epoch: 165, Loss: 0.0889\n",
            "Epoch: 166, Loss: 0.0881\n",
            "Epoch: 167, Loss: 0.0884\n",
            "Epoch: 168, Loss: 0.0886\n",
            "Epoch: 169, Loss: 0.0880\n",
            "Epoch: 170, Loss: 0.0882\n",
            "Epoch: 171, Loss: 0.0873\n",
            "Epoch: 172, Loss: 0.0877\n",
            "Epoch: 173, Loss: 0.0890\n",
            "Epoch: 174, Loss: 0.0880\n",
            "Epoch: 175, Loss: 0.0885\n",
            "Epoch: 176, Loss: 0.0872\n",
            "Epoch: 177, Loss: 0.0878\n",
            "Epoch: 178, Loss: 0.0883\n",
            "Epoch: 179, Loss: 0.0879\n",
            "Epoch: 180, Loss: 0.0877\n",
            "Epoch: 181, Loss: 0.0878\n",
            "Epoch: 182, Loss: 0.0877\n",
            "Epoch: 183, Loss: 0.0866\n",
            "Epoch: 184, Loss: 0.0880\n",
            "Epoch: 185, Loss: 0.0870\n",
            "Epoch: 186, Loss: 0.0873\n",
            "Epoch: 187, Loss: 0.0871\n",
            "Epoch: 188, Loss: 0.0868\n",
            "Epoch: 189, Loss: 0.0873\n",
            "Epoch: 190, Loss: 0.0871\n",
            "Epoch: 191, Loss: 0.0872\n",
            "Epoch: 192, Loss: 0.0876\n",
            "Epoch: 193, Loss: 0.0876\n",
            "Epoch: 194, Loss: 0.0875\n",
            "Epoch: 195, Loss: 0.0861\n",
            "Epoch: 196, Loss: 0.0877\n",
            "Epoch: 197, Loss: 0.0865\n",
            "Epoch: 198, Loss: 0.0858\n",
            "Epoch: 199, Loss: 0.0869\n",
            "Epoch: 200, Loss: 0.0863\n"
          ]
        },
        {
          "output_type": "stream",
          "name": "stderr",
          "text": [
            "100%|██████████| 17535/17535 [06:53<00:00, 42.39it/s]"
          ]
        },
        {
          "output_type": "stream",
          "name": "stdout",
          "text": [
            "Epoch: 200, Val Mean Rank: 276.36, Val MRR: 0.2234, Val Hits@10: 0.3697\n"
          ]
        },
        {
          "output_type": "stream",
          "name": "stderr",
          "text": [
            "\n"
          ]
        }
      ]
    },
    {
      "cell_type": "markdown",
      "source": [
        "Тестируем итоговую модель на тестовых данных."
      ],
      "metadata": {
        "id": "5QlNlw3_T-Cr"
      }
    },
    {
      "cell_type": "code",
      "source": [
        "rank, mrr, hits_at_10 = test(test_data)\n",
        "print(f'Test Mean Rank: {rank:.2f}, Test MRR: {mrr:.4f}, '\n",
        "      f'Test Hits@10: {hits_at_10:.4f}')"
      ],
      "metadata": {
        "colab": {
          "base_uri": "https://localhost:8080/"
        },
        "id": "xS9PayaxYzYC",
        "outputId": "da93e186-c226-4a0c-98c5-d77d4b1119f5"
      },
      "execution_count": null,
      "outputs": [
        {
          "output_type": "stream",
          "name": "stderr",
          "text": [
            "100%|██████████| 20466/20466 [07:58<00:00, 42.74it/s]"
          ]
        },
        {
          "output_type": "stream",
          "name": "stdout",
          "text": [
            "Test Mean Rank: 282.98, Test MRR: 0.2199, Test Hits@10: 0.3624\n"
          ]
        },
        {
          "output_type": "stream",
          "name": "stderr",
          "text": [
            "\n"
          ]
        }
      ]
    },
    {
      "cell_type": "markdown",
      "source": [
        "Далее можно модифицирвать `TransE` или использовать другие методы (например, `Query2box`) для обучения эмбеддингов на примерах запросов к графу знаний."
      ],
      "metadata": {
        "id": "5DKgpEttUERG"
      }
    }
  ]
}